{
  "nbformat": 4,
  "nbformat_minor": 0,
  "metadata": {
    "colab": {
      "provenance": [],
      "toc_visible": true
    },
    "kernelspec": {
      "name": "python3",
      "display_name": "Python 3"
    }
  },
  "cells": [
    {
      "cell_type": "code",
      "metadata": {
        "colab": {
          "base_uri": "https://localhost:8080/"
        },
        "id": "04d4i36_ycED",
        "outputId": "52da6f74-0564-4460-ecb1-c5fafb1cb833"
      },
      "source": [
        "%%bash\n",
        "apt-get install sox"
      ],
      "execution_count": null,
      "outputs": [
        {
          "output_type": "stream",
          "text": [
            "Reading package lists...\n",
            "Building dependency tree...\n",
            "Reading state information...\n",
            "sox is already the newest version (14.4.2-3ubuntu0.18.04.1).\n",
            "0 upgraded, 0 newly installed, 0 to remove and 39 not upgraded.\n"
          ],
          "name": "stdout"
        }
      ]
    },
    {
      "cell_type": "code",
      "metadata": {
        "colab": {
          "base_uri": "https://localhost:8080/"
        },
        "id": "aq0CIn-MAkzI",
        "outputId": "c596c672-ff66-4fed-aa9c-055b276b32ab"
      },
      "source": [
        "!pip install opensmile\n",
        "!pip install sox\n"
      ],
      "execution_count": null,
      "outputs": [
        {
          "output_type": "stream",
          "text": [
            "Requirement already satisfied: opensmile in /usr/local/lib/python3.7/dist-packages (2.0.2)\n",
            "Requirement already satisfied: audiofile in /usr/local/lib/python3.7/dist-packages (from opensmile) (0.4.2)\n",
            "Requirement already satisfied: pandas in /usr/local/lib/python3.7/dist-packages (from opensmile) (1.1.5)\n",
            "Requirement already satisfied: audeer in /usr/local/lib/python3.7/dist-packages (from opensmile) (1.16.0)\n",
            "Requirement already satisfied: soundfile in /usr/local/lib/python3.7/dist-packages (from audiofile->opensmile) (0.10.3.post1)\n",
            "Requirement already satisfied: numpy in /usr/local/lib/python3.7/dist-packages (from audiofile->opensmile) (1.19.5)\n",
            "Requirement already satisfied: sox in /usr/local/lib/python3.7/dist-packages (from audiofile->opensmile) (1.4.1)\n",
            "Requirement already satisfied: python-dateutil>=2.7.3 in /usr/local/lib/python3.7/dist-packages (from pandas->opensmile) (2.8.1)\n",
            "Requirement already satisfied: pytz>=2017.2 in /usr/local/lib/python3.7/dist-packages (from pandas->opensmile) (2018.9)\n",
            "Requirement already satisfied: tqdm in /usr/local/lib/python3.7/dist-packages (from audeer->opensmile) (4.41.1)\n",
            "Requirement already satisfied: cffi>=1.0 in /usr/local/lib/python3.7/dist-packages (from soundfile->audiofile->opensmile) (1.14.5)\n",
            "Requirement already satisfied: six>=1.5 in /usr/local/lib/python3.7/dist-packages (from python-dateutil>=2.7.3->pandas->opensmile) (1.15.0)\n",
            "Requirement already satisfied: pycparser in /usr/local/lib/python3.7/dist-packages (from cffi>=1.0->soundfile->audiofile->opensmile) (2.20)\n",
            "Requirement already satisfied: sox in /usr/local/lib/python3.7/dist-packages (1.4.1)\n",
            "Requirement already satisfied: numpy>=1.9.0 in /usr/local/lib/python3.7/dist-packages (from sox) (1.19.5)\n"
          ],
          "name": "stdout"
        }
      ]
    },
    {
      "cell_type": "code",
      "metadata": {
        "id": "5JNHz5eML7Rm",
        "colab": {
          "base_uri": "https://localhost:8080/"
        },
        "outputId": "151fbe92-500f-4c03-8a0b-90106720554b"
      },
      "source": [
        "import os #for accessing directory releted function\n",
        "import numpy as np #for numerical and matrix operations\n",
        "import cv2\n",
        "import opensmile\n",
        "import sox\n",
        "import tensorflow.compat.v1 as tf\n",
        "tf.compat.v1.disable_v2_behavior()\n",
        "from tensorflow.keras import layers, models\n",
        "from tensorflow import keras\n",
        "import matplotlib.pyplot as plt"
      ],
      "execution_count": null,
      "outputs": [
        {
          "output_type": "stream",
          "text": [
            "WARNING:tensorflow:From /usr/local/lib/python3.7/dist-packages/tensorflow/python/compat/v2_compat.py:96: disable_resource_variables (from tensorflow.python.ops.variable_scope) is deprecated and will be removed in a future version.\n",
            "Instructions for updating:\n",
            "non-resource variables are not supported in the long term\n"
          ],
          "name": "stdout"
        }
      ]
    },
    {
      "cell_type": "code",
      "metadata": {
        "id": "4cZH0PZpLCVn"
      },
      "source": [
        "def audio_features(folder_loc,sample_rate,feature_extector):\n",
        "  x=[fname for fname in os.listdir(folder_loc)]\n",
        "  print(os.listdir(folder_loc))\n",
        "  x1=sorted(x)\n",
        "  nn_array=[]\n",
        "  for i in x1:\n",
        "    path = os.path.join(folder_loc,i)\n",
        "    tfm = sox.Transformer()\n",
        "    tfm.noiseprof(path,\"profile\")\n",
        "    tfm.noisered(\"profile\",amount=0.2)\n",
        "    tfm.norm(db_level=-3.0)\n",
        "    array_out=tfm.build_array(input_filepath=path,sample_rate_in=sample_rate)\n",
        "    # print(array_out.shape)\n",
        "    features=feature_extector.process_signal(array_out[:,0].reshape([array_out.shape[0]]),sample_rate)\n",
        "    print(features.shape)\n",
        "    os.remove(\"profile\")\n",
        "    nn_array.append(np.array(features)[0])\n",
        "\n",
        "  return (np.array(nn_array))\n",
        "\n",
        "   "
      ],
      "execution_count": null,
      "outputs": []
    },
    {
      "cell_type": "code",
      "metadata": {
        "id": "bfJLQAG6via-",
        "colab": {
          "base_uri": "https://localhost:8080/"
        },
        "outputId": "909639d4-a616-41c0-a8b1-e234f8e44b9e"
      },
      "source": [
        "from google.colab import drive\n",
        "drive.mount('/content/drive')"
      ],
      "execution_count": null,
      "outputs": [
        {
          "output_type": "stream",
          "text": [
            "Drive already mounted at /content/drive; to attempt to forcibly remount, call drive.mount(\"/content/drive\", force_remount=True).\n"
          ],
          "name": "stdout"
        }
      ]
    },
    {
      "cell_type": "code",
      "metadata": {
        "id": "rutv5Zhvv1W-"
      },
      "source": [
        "smile=opensmile.Smile(\n",
        "    feature_set=opensmile.FeatureSet.ComParE_2016,\n",
        "    feature_level=opensmile.FeatureLevel.Functionals,\n",
        "    num_channels=1\n",
        ")"
      ],
      "execution_count": null,
      "outputs": []
    },
    {
      "cell_type": "code",
      "metadata": {
        "id": "7TAeSQ-B8o48"
      },
      "source": [
        "def file_import(folder_loc):\n",
        "  x=[fname for fname in os.listdir(folder_loc)]\n",
        "  x1=sorted(x)\n",
        "  return(x1)"
      ],
      "execution_count": null,
      "outputs": []
    },
    {
      "cell_type": "code",
      "metadata": {
        "id": "-oyZIWwPAwSw"
      },
      "source": [
        "truth_audio=\"/content/drive/MyDrive/Projects/Real-life_Deception_Detection_2016/audio/truth_audio\"\n",
        "deceptive_audio=\"/content/drive/MyDrive/Projects/Real-life_Deception_Detection_2016/audio/Deceptive_audio\"\n"
      ],
      "execution_count": null,
      "outputs": []
    },
    {
      "cell_type": "code",
      "metadata": {
        "colab": {
          "base_uri": "https://localhost:8080/"
        },
        "id": "1zOQC7ARd-c_",
        "outputId": "82e26bcd-b20e-438d-f1f0-bc14f1660f98"
      },
      "source": [
        "true_array=audio_features(truth_audio,44100,smile)"
      ],
      "execution_count": null,
      "outputs": [
        {
          "output_type": "stream",
          "text": [
            "['trial_truth_003.wav', 'trial_truth_048.wav', 'trial_truth_028.wav', 'trial_truth_007.wav', 'trial_truth_037.wav', 'trial_truth_049.wav', 'trial_truth_018.wav', 'trial_truth_011.wav', 'trial_truth_031.wav', 'trial_truth_021.wav', 'trial_truth_041.wav', 'trial_truth_050.wav', 'trial_truth_044.wav', 'trial_truth_051.wav', 'trial_truth_055.wav', 'trial_truth_015.wav', 'trial_truth_033.wav', 'trial_truth_006.wav', 'trial_truth_001.wav', 'trial_truth_016.wav', 'trial_truth_005.wav', 'trial_truth_032.wav', 'trial_truth_017.wav', 'trial_truth_057.wav', 'trial_truth_013.wav', 'trial_truth_054.wav', 'trial_truth_040.wav', 'trial_truth_030.wav', 'trial_truth_042.wav', 'trial_truth_012.wav', 'trial_truth_020.wav', 'trial_truth_046.wav', 'trial_truth_060.wav', 'trial_truth_024.wav', 'trial_truth_004.wav', 'trial_truth_029.wav', 'trial_truth_047.wav', 'trial_truth_008.wav', 'trial_truth_014.wav', 'trial_truth_059.wav', 'trial_truth_053.wav', 'trial_truth_010.wav', 'trial_truth_023.wav', 'trial_truth_026.wav', 'trial_truth_019.wav', 'trial_truth_034.wav', 'trial_truth_036.wav', 'trial_truth_039.wav', 'trial_truth_022.wav', 'trial_truth_025.wav', 'trial_truth_027.wav', 'trial_truth_052.wav', 'trial_truth_058.wav', 'trial_truth_009.wav', 'trial_truth_043.wav', 'trial_truth_038.wav', 'trial_truth_045.wav', 'trial_truth_035.wav', 'trial_truth_056.wav', 'trial_truth_002.wav']\n",
            "(1, 6373)\n",
            "(1, 6373)\n",
            "(1, 6373)\n",
            "(1, 6373)\n",
            "(1, 6373)\n",
            "(1, 6373)\n",
            "(1, 6373)\n",
            "(1, 6373)\n",
            "(1, 6373)\n",
            "(1, 6373)\n",
            "(1, 6373)\n",
            "(1, 6373)\n",
            "(1, 6373)\n",
            "(1, 6373)\n",
            "(1, 6373)\n",
            "(1, 6373)\n",
            "(1, 6373)\n",
            "(1, 6373)\n",
            "(1, 6373)\n",
            "(1, 6373)\n",
            "(1, 6373)\n",
            "(1, 6373)\n",
            "(1, 6373)\n",
            "(1, 6373)\n",
            "(1, 6373)\n",
            "(1, 6373)\n",
            "(1, 6373)\n",
            "(1, 6373)\n",
            "(1, 6373)\n",
            "(1, 6373)\n",
            "(1, 6373)\n",
            "(1, 6373)\n",
            "(1, 6373)\n",
            "(1, 6373)\n",
            "(1, 6373)\n",
            "(1, 6373)\n",
            "(1, 6373)\n",
            "(1, 6373)\n",
            "(1, 6373)\n",
            "(1, 6373)\n",
            "(1, 6373)\n",
            "(1, 6373)\n",
            "(1, 6373)\n",
            "(1, 6373)\n",
            "(1, 6373)\n",
            "(1, 6373)\n",
            "(1, 6373)\n",
            "(1, 6373)\n",
            "(1, 6373)\n",
            "(1, 6373)\n",
            "(1, 6373)\n",
            "(1, 6373)\n",
            "(1, 6373)\n",
            "(1, 6373)\n",
            "(1, 6373)\n",
            "(1, 6373)\n",
            "(1, 6373)\n",
            "(1, 6373)\n",
            "(1, 6373)\n",
            "(1, 6373)\n"
          ],
          "name": "stdout"
        }
      ]
    },
    {
      "cell_type": "code",
      "metadata": {
        "colab": {
          "base_uri": "https://localhost:8080/"
        },
        "id": "Ox5u79-dev8R",
        "outputId": "0d107ff4-fb33-4f11-c572-8513f4a51fb5"
      },
      "source": [
        "true_array.shape"
      ],
      "execution_count": null,
      "outputs": [
        {
          "output_type": "execute_result",
          "data": {
            "text/plain": [
              "(60,)"
            ]
          },
          "metadata": {
            "tags": []
          },
          "execution_count": 47
        }
      ]
    },
    {
      "cell_type": "code",
      "metadata": {
        "id": "M5uvYvVMzOhJ"
      },
      "source": [
        "test_ing=\"/content/drive/MyDrive/freelacher/Projects/harsh dalal/CNN/Real-life_Deception_Detection_2016/audio/Deceptive_audio/test\""
      ],
      "execution_count": null,
      "outputs": []
    },
    {
      "cell_type": "code",
      "metadata": {
        "colab": {
          "base_uri": "https://localhost:8080/"
        },
        "id": "prAFl-3y02rB",
        "outputId": "4f22670b-5eb5-488f-ab4a-c1c09e89d8b2"
      },
      "source": [
        "tes_test=audio_features(test_ing,44100,smile)"
      ],
      "execution_count": null,
      "outputs": [
        {
          "output_type": "stream",
          "text": [
            "['trial_lie_001.wav', 'trial_lie_005.wav', 'trial_lie_004.wav', 'trial_lie_003.wav', 'trial_lie_002.wav']\n"
          ],
          "name": "stdout"
        }
      ]
    },
    {
      "cell_type": "code",
      "metadata": {
        "colab": {
          "base_uri": "https://localhost:8080/"
        },
        "id": "t_lrL4pl1AJe",
        "outputId": "083e8f01-16ef-4c6e-a645-6cee3b8ea3bc"
      },
      "source": [
        "tes_test.shape"
      ],
      "execution_count": null,
      "outputs": [
        {
          "output_type": "execute_result",
          "data": {
            "text/plain": [
              "(5, 6373)"
            ]
          },
          "metadata": {
            "tags": []
          },
          "execution_count": 58
        }
      ]
    },
    {
      "cell_type": "code",
      "metadata": {
        "id": "IAEO2rOF1OAY"
      },
      "source": [],
      "execution_count": null,
      "outputs": []
    }
  ]
}